{
 "cells": [
  {
   "cell_type": "markdown",
   "id": "81942eb1",
   "metadata": {},
   "source": [
    "# Course 2 Project: ML Pipeline for Feature Engineering"
   ]
  },
  {
   "cell_type": "markdown",
   "id": "4f241775",
   "metadata": {},
   "source": [
    "## Instructions\n",
    "\n",
    "In this project, you'll use data related to microeconomic indicators and historical stock prices to explore the data engineering pipline. You'll get to practice:\n",
    "\n",
    "* Data ingestion \n",
    "* Data cleaning\n",
    "* Data imputation\n",
    "* Exploratory data analysis (EDA) through charts and graphs"
   ]
  },
  {
   "cell_type": "markdown",
   "id": "1f12b277",
   "metadata": {},
   "source": [
    "## Packages\n",
    "\n",
    "You'll use `pandas` and `matplotlib`, which were covered in the course material, to import, clean, and plot data. They have been installed in this workspace for you. If you're working locally and you installed Jupyter using Anaconda, these packages will already be installed. "
   ]
  },
  {
   "cell_type": "code",
   "execution_count": 176,
   "id": "882241d4",
   "metadata": {},
   "outputs": [],
   "source": [
    "import pandas as pd\n",
    "import matplotlib.pyplot as plt\n",
    "import seaborn as sns\n",
    "from pandas.tseries.offsets import DateOffset"
   ]
  },
  {
   "cell_type": "markdown",
   "id": "f9fcd352",
   "metadata": {},
   "source": [
    "## Load data\n",
    "\n",
    "The first step in a data engineering pipeline for machine learning is to ingest the data that will be used. For this project, data is hosted on a public GitHub repo. \n",
    "\n",
    "Your tasks:\n",
    "* Import data from the provided GitHub repo using `pandas`\n",
    "* Verify that the data has been imported correctly into `pandas` dataframes. Use methods like `head()` and `info()`\n",
    "* You may need to change column names to make them easier to work with\n",
    "* You may need to cast datetime data to the `datetime` format using `pandas` `to_datetime()` method\n",
    "\n",
    "Data files to import: \n",
    "1. GDP\n",
    "2. Inflation \n",
    "3. Apple stock prices \n",
    "4. Microsoft stock prices"
   ]
  },
  {
   "cell_type": "code",
   "execution_count": 154,
   "id": "bd119016",
   "metadata": {},
   "outputs": [],
   "source": [
    "# Load historical GDP data\n",
    "gdp_df = pd.read_csv('GDP.csv', parse_dates=['DATE'])\n",
    "gdp_df.columns = [col_name.lower() for col_name in gdp_df.columns]\n",
    "gdp_df.set_index('date', inplace=True)\n",
    "\n",
    "# Load historical inflation data\n",
    "inflation_df = pd.read_csv('inflation_monthly.csv', parse_dates=['DATE'])\n",
    "inflation_df.columns = ['date', 'inflation']\n",
    "inflation_df.set_index('date', inplace=True)"
   ]
  },
  {
   "cell_type": "code",
   "execution_count": 155,
   "id": "cf36d7c0",
   "metadata": {},
   "outputs": [
    {
     "name": "stdout",
     "output_type": "stream",
     "text": [
      "GDP Data\n",
      "                gdp\n",
      "date               \n",
      "1947-01-01  243.164\n",
      "1947-04-01  245.968\n",
      "1947-07-01  249.585\n",
      "1947-10-01  259.745\n",
      "1948-01-01  265.742\n",
      "\n",
      "Inflation Data\n",
      "            inflation\n",
      "date                 \n",
      "1968-01-01   3.651861\n",
      "1968-02-01   3.673819\n",
      "1968-03-01   4.142164\n",
      "1968-04-01   4.155828\n",
      "1968-05-01   4.088245\n"
     ]
    }
   ],
   "source": [
    "# Check the first few rows of data\n",
    "print(\"GDP Data\")\n",
    "print(gdp_df.head())\n",
    "print()\n",
    "print(\"Inflation Data\")\n",
    "print(inflation_df.head())"
   ]
  },
  {
   "cell_type": "code",
   "execution_count": 156,
   "id": "2a2478c9",
   "metadata": {},
   "outputs": [
    {
     "name": "stdout",
     "output_type": "stream",
     "text": [
      "        Date Close/Last     Volume      Open      High       Low\n",
      "0 2024-05-03   $183.38   163224100  $186.65   $187.00   $182.66 \n",
      "1 2024-05-02   $173.03    94214920  $172.51   $173.42   $170.89 \n",
      "2 2024-05-01   $169.30    50383150  $169.58   $172.71   $169.11 \n",
      "3 2024-04-30   $170.33    65934780  $173.33   $174.99   $170.00 \n",
      "4 2024-04-29   $173.50    68169420  $173.37   $176.03   $173.10 \n"
     ]
    }
   ],
   "source": [
    "# Load the historical stock price data for Apple and Microsoft\n",
    "columns = ['date', 'close','volume','open', 'high', 'low']\n",
    "# Load microsoft data\n",
    "microsoft_df = pd.read_csv('microsoft_historical_data.csv', parse_dates=['Date'])\n",
    "microsoft_df.columns = columns\n",
    "microsoft_df.set_index('date', inplace=True)\n",
    "\n",
    "# Load apple data\n",
    "apple_df = pd.read_csv('apple_historical_data.csv', parse_dates=['Date'])\n",
    "print(apple_df.head())\n",
    "apple_df.columns = columns\n",
    "apple_df.set_index('date', inplace=True)"
   ]
  },
  {
   "cell_type": "code",
   "execution_count": 157,
   "id": "e9e9a77a",
   "metadata": {},
   "outputs": [
    {
     "name": "stdout",
     "output_type": "stream",
     "text": [
      "Microsoft Data\n",
      "              close    volume     open       high        low\n",
      "date                                                        \n",
      "2024-05-03  $406.66  17446720  $402.28    $407.15    $401.86\n",
      "2024-05-02  $397.84  17709360  $397.66    $399.93  $394.6515\n",
      "2024-05-01  $394.94  23562480  $392.61  $401.7199    $390.31\n",
      "2024-04-30  $389.33  28781370  $401.49    $402.16    $389.17\n",
      "2024-04-29  $402.25  19582090  $405.25    $406.32    $399.19\n",
      "\n",
      "Apple Data\n",
      "               close     volume      open      high       low\n",
      "date                                                         \n",
      "2024-05-03  $183.38   163224100  $186.65   $187.00   $182.66 \n",
      "2024-05-02  $173.03    94214920  $172.51   $173.42   $170.89 \n",
      "2024-05-01  $169.30    50383150  $169.58   $172.71   $169.11 \n",
      "2024-04-30  $170.33    65934780  $173.33   $174.99   $170.00 \n",
      "2024-04-29  $173.50    68169420  $173.37   $176.03   $173.10 \n"
     ]
    }
   ],
   "source": [
    "# Check the first few rows of data\n",
    "print('Microsoft Data',)\n",
    "print(microsoft_df.head())\n",
    "print()\n",
    "print('Apple Data')\n",
    "print(apple_df.head())"
   ]
  },
  {
   "cell_type": "code",
   "execution_count": 158,
   "id": "8c9bed17",
   "metadata": {},
   "outputs": [
    {
     "name": "stdout",
     "output_type": "stream",
     "text": [
      "<class 'pandas.core.frame.DataFrame'>\n",
      "DatetimeIndex: 309 entries, 1947-01-01 to 2024-01-01\n",
      "Data columns (total 1 columns):\n",
      " #   Column  Non-Null Count  Dtype  \n",
      "---  ------  --------------  -----  \n",
      " 0   gdp     309 non-null    float64\n",
      "dtypes: float64(1)\n",
      "memory usage: 4.8 KB\n",
      "None\n",
      "                gdp\n",
      "count    309.000000\n",
      "mean    7227.754935\n",
      "std     7478.297734\n",
      "min      243.164000\n",
      "25%      804.981000\n",
      "50%     4386.773000\n",
      "75%    12527.214000\n",
      "max    28284.498000\n"
     ]
    }
   ],
   "source": [
    "# Use methods like .info() and .describe() to explore the data\n",
    "print(gdp_df.info())\n",
    "print(gdp_df.describe())"
   ]
  },
  {
   "cell_type": "code",
   "execution_count": 159,
   "id": "16617993",
   "metadata": {},
   "outputs": [
    {
     "name": "stdout",
     "output_type": "stream",
     "text": [
      "<class 'pandas.core.frame.DataFrame'>\n",
      "DatetimeIndex: 675 entries, 1968-01-01 to 2024-03-01\n",
      "Data columns (total 1 columns):\n",
      " #   Column     Non-Null Count  Dtype  \n",
      "---  ------     --------------  -----  \n",
      " 0   inflation  675 non-null    float64\n",
      "dtypes: float64(1)\n",
      "memory usage: 10.5 KB\n",
      "None\n",
      "        inflation\n",
      "count  675.000000\n",
      "mean     4.331276\n",
      "std      2.694022\n",
      "min      0.663868\n",
      "25%      2.453373\n",
      "50%      3.354398\n",
      "75%      5.202000\n",
      "max     15.774167\n"
     ]
    }
   ],
   "source": [
    "print(inflation_df.info())\n",
    "print(inflation_df.describe())"
   ]
  },
  {
   "cell_type": "markdown",
   "id": "06c8d9dc",
   "metadata": {},
   "source": [
    "## Data preprocessing: Check for missing data and forward fill\n",
    "\n",
    "Check the Apple historical prices for missing data. Check for missing data in all columns. If there's data missing, use a forward fill to fill in those missing prices. "
   ]
  },
  {
   "cell_type": "code",
   "execution_count": 160,
   "id": "4807173e",
   "metadata": {},
   "outputs": [
    {
     "name": "stdout",
     "output_type": "stream",
     "text": [
      "<class 'pandas.core.frame.DataFrame'>\n",
      "DatetimeIndex: 2517 entries, 2024-05-03 to 2014-05-06\n",
      "Data columns (total 5 columns):\n",
      " #   Column  Non-Null Count  Dtype \n",
      "---  ------  --------------  ----- \n",
      " 0   close   2514 non-null   object\n",
      " 1   volume  2517 non-null   int64 \n",
      " 2   open    2517 non-null   object\n",
      " 3   high    2517 non-null   object\n",
      " 4   low     2517 non-null   object\n",
      "dtypes: int64(1), object(4)\n",
      "memory usage: 118.0+ KB\n",
      "None\n",
      "<class 'pandas.core.frame.DataFrame'>\n",
      "DatetimeIndex: 2517 entries, 2024-05-03 to 2014-05-06\n",
      "Data columns (total 5 columns):\n",
      " #   Column  Non-Null Count  Dtype \n",
      "---  ------  --------------  ----- \n",
      " 0   close   2517 non-null   object\n",
      " 1   volume  2517 non-null   int64 \n",
      " 2   open    2517 non-null   object\n",
      " 3   high    2517 non-null   object\n",
      " 4   low     2517 non-null   object\n",
      "dtypes: int64(1), object(4)\n",
      "memory usage: 118.0+ KB\n",
      "None\n",
      "<class 'pandas.core.frame.DataFrame'>\n",
      "DatetimeIndex: 675 entries, 1968-01-01 to 2024-03-01\n",
      "Data columns (total 1 columns):\n",
      " #   Column     Non-Null Count  Dtype  \n",
      "---  ------     --------------  -----  \n",
      " 0   inflation  675 non-null    float64\n",
      "dtypes: float64(1)\n",
      "memory usage: 10.5 KB\n",
      "None\n",
      "<class 'pandas.core.frame.DataFrame'>\n",
      "DatetimeIndex: 309 entries, 1947-01-01 to 2024-01-01\n",
      "Data columns (total 1 columns):\n",
      " #   Column  Non-Null Count  Dtype  \n",
      "---  ------  --------------  -----  \n",
      " 0   gdp     309 non-null    float64\n",
      "dtypes: float64(1)\n",
      "memory usage: 4.8 KB\n",
      "None\n"
     ]
    }
   ],
   "source": [
    "# Check for nulls \n",
    "print(apple_df.info())\n",
    "print(microsoft_df.info())\n",
    "print(inflation_df.info())\n",
    "print(gdp_df.info())"
   ]
  },
  {
   "cell_type": "code",
   "execution_count": 161,
   "id": "00e4d6f5",
   "metadata": {},
   "outputs": [],
   "source": [
    "# Forward fill any missing data\n",
    "apple_df.ffill(inplace=True)"
   ]
  },
  {
   "cell_type": "code",
   "execution_count": 162,
   "id": "f82d3b2d",
   "metadata": {},
   "outputs": [
    {
     "name": "stdout",
     "output_type": "stream",
     "text": [
      "<class 'pandas.core.frame.DataFrame'>\n",
      "DatetimeIndex: 2517 entries, 2024-05-03 to 2014-05-06\n",
      "Data columns (total 5 columns):\n",
      " #   Column  Non-Null Count  Dtype \n",
      "---  ------  --------------  ----- \n",
      " 0   close   2517 non-null   object\n",
      " 1   volume  2517 non-null   int64 \n",
      " 2   open    2517 non-null   object\n",
      " 3   high    2517 non-null   object\n",
      " 4   low     2517 non-null   object\n",
      "dtypes: int64(1), object(4)\n",
      "memory usage: 118.0+ KB\n"
     ]
    }
   ],
   "source": [
    "# Check again for nulls after using forward fill\n",
    "apple_df.info()"
   ]
  },
  {
   "cell_type": "markdown",
   "id": "2614c615",
   "metadata": {},
   "source": [
    "## Data preprocessing: Remove special characters and convert to numeric/datetime\n",
    "\n",
    "The next step in the data engineering process is to standardize and clean up data. In this step, you'll check for odd formatting and special characters that will make it difficult to work with data as numeric or datetime. \n",
    "\n",
    "In this step:\n",
    "* Create a function that takes in a dataframe and a list of columns and removes dollar signs ('$') from those columns\n",
    "* Convert any columns with date/time data into a `pandas` `datetime` format"
   ]
  },
  {
   "cell_type": "code",
   "execution_count": 163,
   "id": "a47537af",
   "metadata": {},
   "outputs": [],
   "source": [
    "def convert_dollar_columns_to_numeric(df, numeric_columns):\n",
    "    '''\n",
    "        Removes dollar signs ('$') from a list of columns in a given dataframe AND casts the columns to a numeric datatype.\n",
    "        Updates dataframe IN PLACE.\n",
    "        \n",
    "        Inputs:\n",
    "            df: dataframe to be operated on\n",
    "            numeric_columns: columns that should have numeric data but have dollar signs currently\n",
    "            \n",
    "        Returns:\n",
    "            None - changes to the dataframe can be made in place\n",
    "    '''\n",
    "    _df = df.copy()\n",
    "    for column in numeric_columns:\n",
    "        try:\n",
    "            _df[column] = _df[column].str.replace('$', '').astype(float)\n",
    "        except AttributeError as e:\n",
    "            print(\"Column '\" + column + \"' is not a string!\")\n",
    "            print(e)\n",
    "    return _df "
   ]
  },
  {
   "cell_type": "code",
   "execution_count": 164,
   "id": "055f8621",
   "metadata": {},
   "outputs": [],
   "source": [
    "# Use convert_dollar_columns_to_numeric() to remove the dollar sign from the Apple and Microsoft datasets\n",
    "numeric_columns = ['close', 'open', 'high', 'low']\n",
    "apple_df = convert_dollar_columns_to_numeric(apple_df, numeric_columns)\n",
    "microsoft_df = convert_dollar_columns_to_numeric(microsoft_df, numeric_columns)"
   ]
  },
  {
   "cell_type": "code",
   "execution_count": 165,
   "id": "efea17ca",
   "metadata": {},
   "outputs": [],
   "source": [
    "# Use pandas's to_datetime() to convert any columns that are in a datetime format\n",
    "\n"
   ]
  },
  {
   "cell_type": "code",
   "execution_count": 166,
   "id": "8a2089e3",
   "metadata": {},
   "outputs": [
    {
     "name": "stdout",
     "output_type": "stream",
     "text": [
      "<class 'pandas.core.frame.DataFrame'>\n",
      "DatetimeIndex: 2517 entries, 2024-05-03 to 2014-05-06\n",
      "Data columns (total 5 columns):\n",
      " #   Column  Non-Null Count  Dtype  \n",
      "---  ------  --------------  -----  \n",
      " 0   close   2517 non-null   float64\n",
      " 1   volume  2517 non-null   int64  \n",
      " 2   open    2517 non-null   float64\n",
      " 3   high    2517 non-null   float64\n",
      " 4   low     2517 non-null   float64\n",
      "dtypes: float64(4), int64(1)\n",
      "memory usage: 118.0 KB\n",
      "None\n",
      "<class 'pandas.core.frame.DataFrame'>\n",
      "DatetimeIndex: 2517 entries, 2024-05-03 to 2014-05-06\n",
      "Data columns (total 5 columns):\n",
      " #   Column  Non-Null Count  Dtype  \n",
      "---  ------  --------------  -----  \n",
      " 0   close   2517 non-null   float64\n",
      " 1   volume  2517 non-null   int64  \n",
      " 2   open    2517 non-null   float64\n",
      " 3   high    2517 non-null   float64\n",
      " 4   low     2517 non-null   float64\n",
      "dtypes: float64(4), int64(1)\n",
      "memory usage: 118.0 KB\n",
      "None\n"
     ]
    }
   ],
   "source": [
    "# Use .info() and check the type of each column to ensure that the above steps worked\n",
    "print(apple_df.info())\n",
    "print(microsoft_df.info())\n"
   ]
  },
  {
   "cell_type": "markdown",
   "id": "95ad8e72",
   "metadata": {},
   "source": [
    "## Data preprocessing: Align datetime data\n",
    "\n",
    "Data engineering includes changing data with a datetime component if needed so that different time series can be more easily compared or plotted against each other. \n",
    "\n",
    "In this step:\n",
    "\n",
    "* Align the inflation date so that it falls on the last day of the month instead of the first\n",
    "\n",
    "Helpful hints: \n",
    "* Use the `pandas` `offsets` method using `MonthEnd(0)` to set the 'Date' column to month-end"
   ]
  },
  {
   "cell_type": "code",
   "execution_count": 167,
   "id": "fe782db6",
   "metadata": {},
   "outputs": [
    {
     "data": {
      "text/html": [
       "<div>\n",
       "<style scoped>\n",
       "    .dataframe tbody tr th:only-of-type {\n",
       "        vertical-align: middle;\n",
       "    }\n",
       "\n",
       "    .dataframe tbody tr th {\n",
       "        vertical-align: top;\n",
       "    }\n",
       "\n",
       "    .dataframe thead th {\n",
       "        text-align: right;\n",
       "    }\n",
       "</style>\n",
       "<table border=\"1\" class=\"dataframe\">\n",
       "  <thead>\n",
       "    <tr style=\"text-align: right;\">\n",
       "      <th></th>\n",
       "      <th>inflation</th>\n",
       "    </tr>\n",
       "    <tr>\n",
       "      <th>date</th>\n",
       "      <th></th>\n",
       "    </tr>\n",
       "  </thead>\n",
       "  <tbody>\n",
       "    <tr>\n",
       "      <th>1968-01-31</th>\n",
       "      <td>3.651861</td>\n",
       "    </tr>\n",
       "    <tr>\n",
       "      <th>1968-02-29</th>\n",
       "      <td>3.673819</td>\n",
       "    </tr>\n",
       "    <tr>\n",
       "      <th>1968-03-31</th>\n",
       "      <td>4.142164</td>\n",
       "    </tr>\n",
       "    <tr>\n",
       "      <th>1968-04-30</th>\n",
       "      <td>4.155828</td>\n",
       "    </tr>\n",
       "    <tr>\n",
       "      <th>1968-05-31</th>\n",
       "      <td>4.088245</td>\n",
       "    </tr>\n",
       "    <tr>\n",
       "      <th>...</th>\n",
       "      <td>...</td>\n",
       "    </tr>\n",
       "    <tr>\n",
       "      <th>2023-11-30</th>\n",
       "      <td>4.688293</td>\n",
       "    </tr>\n",
       "    <tr>\n",
       "      <th>2023-12-31</th>\n",
       "      <td>4.554396</td>\n",
       "    </tr>\n",
       "    <tr>\n",
       "      <th>2024-01-31</th>\n",
       "      <td>4.603922</td>\n",
       "    </tr>\n",
       "    <tr>\n",
       "      <th>2024-02-29</th>\n",
       "      <td>4.403102</td>\n",
       "    </tr>\n",
       "    <tr>\n",
       "      <th>2024-03-31</th>\n",
       "      <td>4.509212</td>\n",
       "    </tr>\n",
       "  </tbody>\n",
       "</table>\n",
       "<p>675 rows × 1 columns</p>\n",
       "</div>"
      ],
      "text/plain": [
       "            inflation\n",
       "date                 \n",
       "1968-01-31   3.651861\n",
       "1968-02-29   3.673819\n",
       "1968-03-31   4.142164\n",
       "1968-04-30   4.155828\n",
       "1968-05-31   4.088245\n",
       "...               ...\n",
       "2023-11-30   4.688293\n",
       "2023-12-31   4.554396\n",
       "2024-01-31   4.603922\n",
       "2024-02-29   4.403102\n",
       "2024-03-31   4.509212\n",
       "\n",
       "[675 rows x 1 columns]"
      ]
     },
     "execution_count": 167,
     "metadata": {},
     "output_type": "execute_result"
    }
   ],
   "source": [
    "# Align inflation data so that the date is the month end (e.g. Jan 31, Feb 28/28)\n",
    "inflation_df.reset_index(inplace=True)\n",
    "inflation_df['date'] = inflation_df['date'].apply(lambda x: pd.offsets.MonthEnd().rollforward(x))\n",
    "inflation_df.set_index('date', inplace=True, drop=True)\n",
    "inflation_df"
   ]
  },
  {
   "cell_type": "markdown",
   "id": "e072f4a1",
   "metadata": {},
   "source": [
    "## Data preprocessing: Upsample, downsample and interpolate data\n",
    "\n",
    "Inflation data is presented monthly in this dataset. However, for some models, you may need it at a quarterly frequency, and for some models you may need it at a quarterly frequency. \n",
    "\n",
    "In this step:\n",
    "* Create a new quarterly inflation dataframe by downsampling the monthly inflation data to quarterly using the mean (e.g. for quarter 1 in a given year, use the average values from January, February, and March)\n",
    "* Create a new weekly inflation dataframe by upsampling the monthly inflation data. For this, you'll need to use `resample` and then you'll need to `interpolate` to fill in the missing data at the weekly frequency\n",
    "\n",
    "Note that you may need to change the index for some of these operations! "
   ]
  },
  {
   "cell_type": "code",
   "execution_count": 168,
   "id": "28fea2f6",
   "metadata": {},
   "outputs": [
    {
     "data": {
      "text/html": [
       "<div>\n",
       "<style scoped>\n",
       "    .dataframe tbody tr th:only-of-type {\n",
       "        vertical-align: middle;\n",
       "    }\n",
       "\n",
       "    .dataframe tbody tr th {\n",
       "        vertical-align: top;\n",
       "    }\n",
       "\n",
       "    .dataframe thead th {\n",
       "        text-align: right;\n",
       "    }\n",
       "</style>\n",
       "<table border=\"1\" class=\"dataframe\">\n",
       "  <thead>\n",
       "    <tr style=\"text-align: right;\">\n",
       "      <th></th>\n",
       "      <th>inflation</th>\n",
       "    </tr>\n",
       "    <tr>\n",
       "      <th>date</th>\n",
       "      <th></th>\n",
       "    </tr>\n",
       "  </thead>\n",
       "  <tbody>\n",
       "    <tr>\n",
       "      <th>1968-03-31</th>\n",
       "      <td>4.142164</td>\n",
       "    </tr>\n",
       "    <tr>\n",
       "      <th>1968-04-07</th>\n",
       "      <td>4.171434</td>\n",
       "    </tr>\n",
       "    <tr>\n",
       "      <th>1968-04-14</th>\n",
       "      <td>4.200997</td>\n",
       "    </tr>\n",
       "    <tr>\n",
       "      <th>1968-04-21</th>\n",
       "      <td>4.230853</td>\n",
       "    </tr>\n",
       "    <tr>\n",
       "      <th>1968-04-28</th>\n",
       "      <td>4.261004</td>\n",
       "    </tr>\n",
       "    <tr>\n",
       "      <th>...</th>\n",
       "      <td>...</td>\n",
       "    </tr>\n",
       "    <tr>\n",
       "      <th>2024-03-03</th>\n",
       "      <td>4.471039</td>\n",
       "    </tr>\n",
       "    <tr>\n",
       "      <th>2024-03-10</th>\n",
       "      <td>4.476243</td>\n",
       "    </tr>\n",
       "    <tr>\n",
       "      <th>2024-03-17</th>\n",
       "      <td>4.484340</td>\n",
       "    </tr>\n",
       "    <tr>\n",
       "      <th>2024-03-24</th>\n",
       "      <td>4.495330</td>\n",
       "    </tr>\n",
       "    <tr>\n",
       "      <th>2024-03-31</th>\n",
       "      <td>4.509212</td>\n",
       "    </tr>\n",
       "  </tbody>\n",
       "</table>\n",
       "<p>2923 rows × 1 columns</p>\n",
       "</div>"
      ],
      "text/plain": [
       "            inflation\n",
       "date                 \n",
       "1968-03-31   4.142164\n",
       "1968-04-07   4.171434\n",
       "1968-04-14   4.200997\n",
       "1968-04-21   4.230853\n",
       "1968-04-28   4.261004\n",
       "...               ...\n",
       "2024-03-03   4.471039\n",
       "2024-03-10   4.476243\n",
       "2024-03-17   4.484340\n",
       "2024-03-24   4.495330\n",
       "2024-03-31   4.509212\n",
       "\n",
       "[2923 rows x 1 columns]"
      ]
     },
     "execution_count": 168,
     "metadata": {},
     "output_type": "execute_result"
    },
    {
     "data": {
      "image/png": "[encoded data removed]",
      "text/plain": [
       "<Figure size 640x480 with 1 Axes>"
      ]
     },
     "metadata": {},
     "output_type": "display_data"
    }
   ],
   "source": [
    "# Upsample and interpolate from monthly to weekly \n",
    "weekly_inflation_df = inflation_df.resample('W').interpolate(method='polynomial', order=2).dropna()\n",
    "weekly_inflation_df.iloc[-200:].plot()\n",
    "weekly_inflation_df"
   ]
  },
  {
   "cell_type": "code",
   "execution_count": 169,
   "id": "635647a1",
   "metadata": {},
   "outputs": [
    {
     "data": {
      "text/html": [
       "<div>\n",
       "<style scoped>\n",
       "    .dataframe tbody tr th:only-of-type {\n",
       "        vertical-align: middle;\n",
       "    }\n",
       "\n",
       "    .dataframe tbody tr th {\n",
       "        vertical-align: top;\n",
       "    }\n",
       "\n",
       "    .dataframe thead th {\n",
       "        text-align: right;\n",
       "    }\n",
       "</style>\n",
       "<table border=\"1\" class=\"dataframe\">\n",
       "  <thead>\n",
       "    <tr style=\"text-align: right;\">\n",
       "      <th></th>\n",
       "      <th>inflation</th>\n",
       "    </tr>\n",
       "    <tr>\n",
       "      <th>date</th>\n",
       "      <th></th>\n",
       "    </tr>\n",
       "  </thead>\n",
       "  <tbody>\n",
       "    <tr>\n",
       "      <th>1968-03-31</th>\n",
       "      <td>3.822615</td>\n",
       "    </tr>\n",
       "    <tr>\n",
       "      <th>1968-06-30</th>\n",
       "      <td>4.263214</td>\n",
       "    </tr>\n",
       "    <tr>\n",
       "      <th>1968-09-30</th>\n",
       "      <td>4.882643</td>\n",
       "    </tr>\n",
       "    <tr>\n",
       "      <th>1968-12-31</th>\n",
       "      <td>5.429443</td>\n",
       "    </tr>\n",
       "    <tr>\n",
       "      <th>1969-03-31</th>\n",
       "      <td>5.873770</td>\n",
       "    </tr>\n",
       "    <tr>\n",
       "      <th>...</th>\n",
       "      <td>...</td>\n",
       "    </tr>\n",
       "    <tr>\n",
       "      <th>2023-03-31</th>\n",
       "      <td>6.467833</td>\n",
       "    </tr>\n",
       "    <tr>\n",
       "      <th>2023-06-30</th>\n",
       "      <td>5.942054</td>\n",
       "    </tr>\n",
       "    <tr>\n",
       "      <th>2023-09-30</th>\n",
       "      <td>5.179249</td>\n",
       "    </tr>\n",
       "    <tr>\n",
       "      <th>2023-12-31</th>\n",
       "      <td>4.708539</td>\n",
       "    </tr>\n",
       "    <tr>\n",
       "      <th>2024-03-31</th>\n",
       "      <td>4.505412</td>\n",
       "    </tr>\n",
       "  </tbody>\n",
       "</table>\n",
       "<p>225 rows × 1 columns</p>\n",
       "</div>"
      ],
      "text/plain": [
       "            inflation\n",
       "date                 \n",
       "1968-03-31   3.822615\n",
       "1968-06-30   4.263214\n",
       "1968-09-30   4.882643\n",
       "1968-12-31   5.429443\n",
       "1969-03-31   5.873770\n",
       "...               ...\n",
       "2023-03-31   6.467833\n",
       "2023-06-30   5.942054\n",
       "2023-09-30   5.179249\n",
       "2023-12-31   4.708539\n",
       "2024-03-31   4.505412\n",
       "\n",
       "[225 rows x 1 columns]"
      ]
     },
     "execution_count": 169,
     "metadata": {},
     "output_type": "execute_result"
    },
    {
     "data": {
      "image/png": "[encoded data removed]",
      "text/plain": [
       "<Figure size 640x480 with 1 Axes>"
      ]
     },
     "metadata": {},
     "output_type": "display_data"
    }
   ],
   "source": [
    "# Downsample from monthly to quarterly \n",
    "quarterly_inflation_df = inflation_df.resample('Q').mean()\n",
    "quarterly_inflation_df.iloc[-20:].plot()\n",
    "quarterly_inflation_df"
   ]
  },
  {
   "cell_type": "markdown",
   "id": "0ea82443",
   "metadata": {},
   "source": [
    "## Data preprocessing: Normalize/standardize a feature\n",
    "\n",
    "Economic time series data often involve variables measured on different scales (e.g., GDP in trillions of dollars, inflation in percentage points). Standardizing these variables (typically by subtracting the mean and dividing by the standard deviation) puts them on a common scale, allowing for meaningful comparisons and analyses.\n",
    "\n",
    "Your task:\n",
    "* Standardize the GDP data. You may do this manually by subtracting the mean and dividing by the standard deviation, or you may use a built-in method from a library like `sklearn`'s `StandardScaler`"
   ]
  },
  {
   "cell_type": "code",
   "execution_count": 233,
   "id": "4f88d246",
   "metadata": {},
   "outputs": [
    {
     "name": "stdout",
     "output_type": "stream",
     "text": [
      "                 gdp\n",
      "date                \n",
      "1947-01-01 -0.935496\n",
      "1947-04-01 -0.935121\n",
      "1947-07-01 -0.934636\n",
      "1947-10-01 -0.933276\n",
      "1948-01-01 -0.932472\n",
      "                 gdp\n",
      "date                \n",
      "2023-01-01  2.623273\n",
      "2023-04-01  2.656678\n",
      "2023-07-01  2.729957\n",
      "2023-10-01  2.776416\n",
      "2024-01-01  2.820281\n"
     ]
    }
   ],
   "source": [
    "# Standardize the GDP measure\n",
    "from sklearn.preprocessing import StandardScaler\n",
    "scaler = StandardScaler()\n",
    "gdp_scaled = gdp_df.copy()\n",
    "gdp_scaled['gdp'] = scaler.fit_transform(gdp_df.gdp.values.reshape(-1,1))\n",
    "print(gdp_scaled.head())\n",
    "print(gdp_scaled.tail())\n"
   ]
  },
  {
   "cell_type": "code",
   "execution_count": 171,
   "id": "e4801c53",
   "metadata": {},
   "outputs": [
    {
     "data": {
      "text/html": [
       "<div>\n",
       "<style scoped>\n",
       "    .dataframe tbody tr th:only-of-type {\n",
       "        vertical-align: middle;\n",
       "    }\n",
       "\n",
       "    .dataframe tbody tr th {\n",
       "        vertical-align: top;\n",
       "    }\n",
       "\n",
       "    .dataframe thead th {\n",
       "        text-align: right;\n",
       "    }\n",
       "</style>\n",
       "<table border=\"1\" class=\"dataframe\">\n",
       "  <thead>\n",
       "    <tr style=\"text-align: right;\">\n",
       "      <th></th>\n",
       "      <th>gdp</th>\n",
       "    </tr>\n",
       "    <tr>\n",
       "      <th>date</th>\n",
       "      <th></th>\n",
       "    </tr>\n",
       "  </thead>\n",
       "  <tbody>\n",
       "    <tr>\n",
       "      <th>1947-01-01</th>\n",
       "      <td>243.164</td>\n",
       "    </tr>\n",
       "    <tr>\n",
       "      <th>1947-04-01</th>\n",
       "      <td>245.968</td>\n",
       "    </tr>\n",
       "    <tr>\n",
       "      <th>1947-07-01</th>\n",
       "      <td>249.585</td>\n",
       "    </tr>\n",
       "    <tr>\n",
       "      <th>1947-10-01</th>\n",
       "      <td>259.745</td>\n",
       "    </tr>\n",
       "    <tr>\n",
       "      <th>1948-01-01</th>\n",
       "      <td>265.742</td>\n",
       "    </tr>\n",
       "    <tr>\n",
       "      <th>...</th>\n",
       "      <td>...</td>\n",
       "    </tr>\n",
       "    <tr>\n",
       "      <th>2023-01-01</th>\n",
       "      <td>26813.601</td>\n",
       "    </tr>\n",
       "    <tr>\n",
       "      <th>2023-04-01</th>\n",
       "      <td>27063.012</td>\n",
       "    </tr>\n",
       "    <tr>\n",
       "      <th>2023-07-01</th>\n",
       "      <td>27610.128</td>\n",
       "    </tr>\n",
       "    <tr>\n",
       "      <th>2023-10-01</th>\n",
       "      <td>27956.998</td>\n",
       "    </tr>\n",
       "    <tr>\n",
       "      <th>2024-01-01</th>\n",
       "      <td>28284.498</td>\n",
       "    </tr>\n",
       "  </tbody>\n",
       "</table>\n",
       "<p>309 rows × 1 columns</p>\n",
       "</div>"
      ],
      "text/plain": [
       "                  gdp\n",
       "date                 \n",
       "1947-01-01    243.164\n",
       "1947-04-01    245.968\n",
       "1947-07-01    249.585\n",
       "1947-10-01    259.745\n",
       "1948-01-01    265.742\n",
       "...               ...\n",
       "2023-01-01  26813.601\n",
       "2023-04-01  27063.012\n",
       "2023-07-01  27610.128\n",
       "2023-10-01  27956.998\n",
       "2024-01-01  28284.498\n",
       "\n",
       "[309 rows x 1 columns]"
      ]
     },
     "execution_count": 171,
     "metadata": {},
     "output_type": "execute_result"
    }
   ],
   "source": [
    "# Check the dataframe to make sure the calculation worked as expected \n",
    "gdp_scaled\n"
   ]
  },
  {
   "cell_type": "markdown",
   "id": "1f1a89d2",
   "metadata": {},
   "source": [
    "## EDA: Plotting a time series of adjusted open vs close price\n",
    "\n",
    "As part of your EDA, you'll frequently want to plot two time series on the same graph and using the same axis to compare their movements. \n",
    "\n",
    "Your task:\n",
    "* Plot the Apple open and close price time series on the same chart **for the last three months only**. Be sure to use a legend to label each line\n",
    "\n",
    "**NOTE**: This is a large dataset. If you try to plot the entire series, your graph will be hard to interpret and may take a long time to plot. Be sure to use only the most recent three months of data. "
   ]
  },
  {
   "cell_type": "code",
   "execution_count": 218,
   "id": "9b490f9b",
   "metadata": {},
   "outputs": [
    {
     "data": {
      "text/plain": [
       "Timestamp('2024-05-03 00:00:00')"
      ]
     },
     "execution_count": 218,
     "metadata": {},
     "output_type": "execute_result"
    }
   ],
   "source": [
    "# Get max date in timeseries\n",
    "max_date = apple_df.index.max()\n",
    "max_date"
   ]
  },
  {
   "cell_type": "code",
   "execution_count": 221,
   "id": "03b51a20",
   "metadata": {},
   "outputs": [
    {
     "data": {
      "text/plain": [
       "array([ True,  True,  True, ..., False, False, False])"
      ]
     },
     "execution_count": 221,
     "metadata": {},
     "output_type": "execute_result"
    }
   ],
   "source": [
    "# Use the max date calculated above to get the last three months of data in the dataset \n",
    "last_3_month_mask = apple_df.index > (max_date - DateOffset(months=3))\n",
    "last_3_month_mask"
   ]
  },
  {
   "cell_type": "code",
   "execution_count": 224,
   "id": "039404e1",
   "metadata": {},
   "outputs": [
    {
     "data": {
      "text/plain": [
       "<matplotlib.legend.Legend at 0x328aa54d0>"
      ]
     },
     "execution_count": 224,
     "metadata": {},
     "output_type": "execute_result"
    },
    {
     "data": {
      "image/png": "[encoded data removed]",
      "text/plain": [
       "<Figure size 1000x500 with 1 Axes>"
      ]
     },
     "metadata": {},
     "output_type": "display_data"
    }
   ],
   "source": [
    "# Plot time series of open v. close stock price for Apple using the last 3 months of data\n",
    "fig, ax = plt.subplots(figsize=(10,5))\n",
    "apple_3_month_df = apple_df[last_3_month_mask]\n",
    "ax.plot(apple_3_month_df.close)\n",
    "ax.plot(apple_3_month_df.open)\n",
    "ax.set_title('Apple Open and Close prices')\n",
    "ax.set_xlabel(\"Date\")\n",
    "plt.xticks(rotation=45)\n",
    "ax.set_ylabel('Price')\n",
    "ax.legend(['Close', 'Open'])\n",
    "\n"
   ]
  },
  {
   "cell_type": "markdown",
   "id": "bc0070c6",
   "metadata": {},
   "source": [
    "## EDA: Plotting a histogram of a stock's closing price in the last three months\n",
    "\n",
    "One way to see how much a stock's price generally moves is to plot the frequency of closing prices over a set time period. \n",
    "\n",
    "Your task:\n",
    "* Use the **last three months** of Apple stock data and plot a histogram of closing price"
   ]
  },
  {
   "cell_type": "code",
   "execution_count": 225,
   "id": "b48760fd",
   "metadata": {},
   "outputs": [
    {
     "data": {
      "text/plain": [
       "(array([835., 521., 116.,  80.,  27., 142., 188., 230., 249., 129.]),\n",
       " array([ 20.91,  38.63,  56.35,  74.07,  91.79, 109.51, 127.23, 144.95,\n",
       "        162.67, 180.39, 198.11]),\n",
       " <BarContainer object of 10 artists>)"
      ]
     },
     "execution_count": 225,
     "metadata": {},
     "output_type": "execute_result"
    },
    {
     "data": {
      "image/png": "[encoded data removed]",
      "text/plain": [
       "<Figure size 640x480 with 1 Axes>"
      ]
     },
     "metadata": {},
     "output_type": "display_data"
    }
   ],
   "source": [
    "# Plot the histogram of Apple's closing price over the last 3 months \n",
    "plt.hist(apple_df.close)\n"
   ]
  },
  {
   "cell_type": "markdown",
   "id": "01e1b22c",
   "metadata": {},
   "source": [
    "## Calculating correlation between a stock price and a macroeconomic variable \n",
    "\n",
    "Inflation affects the purchasing power of money and can influence corporate profits, interest rates, and consumer behavior. By analyzing the correlation between stock prices and inflation, one can gauge how inflationary trends impact stock market performance. For instance, high inflation might erode profit margins and reduce stock prices, while moderate inflation might indicate a growing economy, benefiting stocks.\n",
    "\n",
    "Your task:\n",
    "* Plot a heatmap that shows the correlation between Microsoft and Apple returns and inflation \n",
    "\n",
    "This will require several steps:\n",
    "1. Calculate the returns for Apple and Microsoft and the change in monthly inflation (use the `pct_change` method for each)\n",
    "2. Interpolate the daily stock returns data to monthly so it can be compared to the monthly inflation data\n",
    "3. Merge the stock returns (Apple and Microsoft) and inflation data series into a single dataframe\n",
    "4. Calculate the correlation matrix between the Apple returns, Microsoft returns, and inflation change\n",
    "5. Plot the correlation matrix as a heatmap"
   ]
  },
  {
   "cell_type": "markdown",
   "id": "c38842ed",
   "metadata": {},
   "source": [
    "### 1. Calculate returns for Microsoft / Apple and the monthly change in inflation"
   ]
  },
  {
   "cell_type": "code",
   "execution_count": 232,
   "id": "a112dc12",
   "metadata": {},
   "outputs": [
    {
     "data": {
      "text/html": [
       "<div>\n",
       "<style scoped>\n",
       "    .dataframe tbody tr th:only-of-type {\n",
       "        vertical-align: middle;\n",
       "    }\n",
       "\n",
       "    .dataframe tbody tr th {\n",
       "        vertical-align: top;\n",
       "    }\n",
       "\n",
       "    .dataframe thead th {\n",
       "        text-align: right;\n",
       "    }\n",
       "</style>\n",
       "<table border=\"1\" class=\"dataframe\">\n",
       "  <thead>\n",
       "    <tr style=\"text-align: right;\">\n",
       "      <th></th>\n",
       "      <th>close</th>\n",
       "    </tr>\n",
       "    <tr>\n",
       "      <th>date</th>\n",
       "      <th></th>\n",
       "    </tr>\n",
       "  </thead>\n",
       "  <tbody>\n",
       "    <tr>\n",
       "      <th>2024-05-02</th>\n",
       "      <td>-0.021689</td>\n",
       "    </tr>\n",
       "    <tr>\n",
       "      <th>2024-05-01</th>\n",
       "      <td>-0.007289</td>\n",
       "    </tr>\n",
       "    <tr>\n",
       "      <th>2024-04-30</th>\n",
       "      <td>-0.014205</td>\n",
       "    </tr>\n",
       "    <tr>\n",
       "      <th>2024-04-29</th>\n",
       "      <td>0.033185</td>\n",
       "    </tr>\n",
       "    <tr>\n",
       "      <th>2024-04-26</th>\n",
       "      <td>0.010118</td>\n",
       "    </tr>\n",
       "    <tr>\n",
       "      <th>...</th>\n",
       "      <td>...</td>\n",
       "    </tr>\n",
       "    <tr>\n",
       "      <th>2014-05-12</th>\n",
       "      <td>-0.011133</td>\n",
       "    </tr>\n",
       "    <tr>\n",
       "      <th>2014-05-09</th>\n",
       "      <td>-0.010758</td>\n",
       "    </tr>\n",
       "    <tr>\n",
       "      <th>2014-05-08</th>\n",
       "      <td>0.002529</td>\n",
       "    </tr>\n",
       "    <tr>\n",
       "      <th>2014-05-07</th>\n",
       "      <td>-0.005424</td>\n",
       "    </tr>\n",
       "    <tr>\n",
       "      <th>2014-05-06</th>\n",
       "      <td>-0.009258</td>\n",
       "    </tr>\n",
       "  </tbody>\n",
       "</table>\n",
       "<p>2516 rows × 1 columns</p>\n",
       "</div>"
      ],
      "text/plain": [
       "               close\n",
       "date                \n",
       "2024-05-02 -0.021689\n",
       "2024-05-01 -0.007289\n",
       "2024-04-30 -0.014205\n",
       "2024-04-29  0.033185\n",
       "2024-04-26  0.010118\n",
       "...              ...\n",
       "2014-05-12 -0.011133\n",
       "2014-05-09 -0.010758\n",
       "2014-05-08  0.002529\n",
       "2014-05-07 -0.005424\n",
       "2014-05-06 -0.009258\n",
       "\n",
       "[2516 rows x 1 columns]"
      ]
     },
     "execution_count": 232,
     "metadata": {},
     "output_type": "execute_result"
    }
   ],
   "source": [
    "# Calculate daily returns for Apple and Microsoft and the percent change in inflation from month to month\n",
    "apple_returns = pd.DataFrame(apple_df.close.pct_change(), columns = ['close']).dropna()\n",
    "microsoft_returns = pd.DataFrame(microsoft_df.close.pct_change(), columns = ['close']).dropna()\n",
    "microsoft_returns\n"
   ]
  },
  {
   "cell_type": "markdown",
   "id": "c8aa1b91",
   "metadata": {},
   "source": [
    "### 2. Interpolate stock returns from daily to monthly"
   ]
  },
  {
   "cell_type": "code",
   "execution_count": 251,
   "id": "9300a530",
   "metadata": {},
   "outputs": [
    {
     "data": {
      "text/html": [
       "<div>\n",
       "<style scoped>\n",
       "    .dataframe tbody tr th:only-of-type {\n",
       "        vertical-align: middle;\n",
       "    }\n",
       "\n",
       "    .dataframe tbody tr th {\n",
       "        vertical-align: top;\n",
       "    }\n",
       "\n",
       "    .dataframe thead th {\n",
       "        text-align: right;\n",
       "    }\n",
       "</style>\n",
       "<table border=\"1\" class=\"dataframe\">\n",
       "  <thead>\n",
       "    <tr style=\"text-align: right;\">\n",
       "      <th></th>\n",
       "      <th>inflation</th>\n",
       "    </tr>\n",
       "    <tr>\n",
       "      <th>date</th>\n",
       "      <th></th>\n",
       "    </tr>\n",
       "  </thead>\n",
       "  <tbody>\n",
       "    <tr>\n",
       "      <th>1968-02-29</th>\n",
       "      <td>0.006013</td>\n",
       "    </tr>\n",
       "    <tr>\n",
       "      <th>1968-03-31</th>\n",
       "      <td>0.127482</td>\n",
       "    </tr>\n",
       "    <tr>\n",
       "      <th>1968-04-30</th>\n",
       "      <td>0.003299</td>\n",
       "    </tr>\n",
       "    <tr>\n",
       "      <th>1968-05-31</th>\n",
       "      <td>-0.016262</td>\n",
       "    </tr>\n",
       "    <tr>\n",
       "      <th>1968-06-30</th>\n",
       "      <td>0.111863</td>\n",
       "    </tr>\n",
       "    <tr>\n",
       "      <th>...</th>\n",
       "      <td>...</td>\n",
       "    </tr>\n",
       "    <tr>\n",
       "      <th>2023-11-30</th>\n",
       "      <td>-0.039860</td>\n",
       "    </tr>\n",
       "    <tr>\n",
       "      <th>2023-12-31</th>\n",
       "      <td>-0.028560</td>\n",
       "    </tr>\n",
       "    <tr>\n",
       "      <th>2024-01-31</th>\n",
       "      <td>0.010874</td>\n",
       "    </tr>\n",
       "    <tr>\n",
       "      <th>2024-02-29</th>\n",
       "      <td>-0.043619</td>\n",
       "    </tr>\n",
       "    <tr>\n",
       "      <th>2024-03-31</th>\n",
       "      <td>0.024099</td>\n",
       "    </tr>\n",
       "  </tbody>\n",
       "</table>\n",
       "<p>674 rows × 1 columns</p>\n",
       "</div>"
      ],
      "text/plain": [
       "            inflation\n",
       "date                 \n",
       "1968-02-29   0.006013\n",
       "1968-03-31   0.127482\n",
       "1968-04-30   0.003299\n",
       "1968-05-31  -0.016262\n",
       "1968-06-30   0.111863\n",
       "...               ...\n",
       "2023-11-30  -0.039860\n",
       "2023-12-31  -0.028560\n",
       "2024-01-31   0.010874\n",
       "2024-02-29  -0.043619\n",
       "2024-03-31   0.024099\n",
       "\n",
       "[674 rows x 1 columns]"
      ]
     },
     "execution_count": 251,
     "metadata": {},
     "output_type": "execute_result"
    }
   ],
   "source": [
    "apple_monthly_returns = apple_df['close'].resample('M').last().pct_change().dropna()\n",
    "microsoft_monthly_returns = microsoft_df['close'].resample('M').last().pct_change().dropna()\n",
    "inflation_pct_change = inflation_df.pct_change().dropna()\n",
    "microsoft_monthly_returns\n",
    "inflation_pct_change"
   ]
  },
  {
   "cell_type": "markdown",
   "id": "268272e6",
   "metadata": {},
   "source": [
    "### 3. Merge the dataframes and calculate / plot the correlation"
   ]
  },
  {
   "cell_type": "code",
   "execution_count": 253,
   "id": "0defb97b",
   "metadata": {},
   "outputs": [
    {
     "data": {
      "text/html": [
       "<div>\n",
       "<style scoped>\n",
       "    .dataframe tbody tr th:only-of-type {\n",
       "        vertical-align: middle;\n",
       "    }\n",
       "\n",
       "    .dataframe tbody tr th {\n",
       "        vertical-align: top;\n",
       "    }\n",
       "\n",
       "    .dataframe thead th {\n",
       "        text-align: right;\n",
       "    }\n",
       "</style>\n",
       "<table border=\"1\" class=\"dataframe\">\n",
       "  <thead>\n",
       "    <tr style=\"text-align: right;\">\n",
       "      <th></th>\n",
       "      <th>apple</th>\n",
       "      <th>microsoft</th>\n",
       "      <th>inflation</th>\n",
       "    </tr>\n",
       "    <tr>\n",
       "      <th>date</th>\n",
       "      <th></th>\n",
       "      <th></th>\n",
       "      <th></th>\n",
       "    </tr>\n",
       "  </thead>\n",
       "  <tbody>\n",
       "    <tr>\n",
       "      <th>2014-06-30</th>\n",
       "      <td>0.027421</td>\n",
       "      <td>0.018564</td>\n",
       "      <td>0.007147</td>\n",
       "    </tr>\n",
       "    <tr>\n",
       "      <th>2014-07-31</th>\n",
       "      <td>0.028842</td>\n",
       "      <td>0.035012</td>\n",
       "      <td>-0.020724</td>\n",
       "    </tr>\n",
       "    <tr>\n",
       "      <th>2014-08-31</th>\n",
       "      <td>0.072385</td>\n",
       "      <td>0.052595</td>\n",
       "      <td>-0.066387</td>\n",
       "    </tr>\n",
       "    <tr>\n",
       "      <th>2014-09-30</th>\n",
       "      <td>-0.017167</td>\n",
       "      <td>0.020471</td>\n",
       "      <td>-0.004516</td>\n",
       "    </tr>\n",
       "    <tr>\n",
       "      <th>2014-10-31</th>\n",
       "      <td>0.071854</td>\n",
       "      <td>0.012726</td>\n",
       "      <td>0.026302</td>\n",
       "    </tr>\n",
       "    <tr>\n",
       "      <th>...</th>\n",
       "      <td>...</td>\n",
       "      <td>...</td>\n",
       "      <td>...</td>\n",
       "    </tr>\n",
       "    <tr>\n",
       "      <th>2023-11-30</th>\n",
       "      <td>0.112315</td>\n",
       "      <td>0.120671</td>\n",
       "      <td>-0.039860</td>\n",
       "    </tr>\n",
       "    <tr>\n",
       "      <th>2023-12-31</th>\n",
       "      <td>0.013583</td>\n",
       "      <td>-0.007574</td>\n",
       "      <td>-0.028560</td>\n",
       "    </tr>\n",
       "    <tr>\n",
       "      <th>2024-01-31</th>\n",
       "      <td>-0.042227</td>\n",
       "      <td>0.057281</td>\n",
       "      <td>0.010874</td>\n",
       "    </tr>\n",
       "    <tr>\n",
       "      <th>2024-02-29</th>\n",
       "      <td>-0.019794</td>\n",
       "      <td>0.040394</td>\n",
       "      <td>-0.043619</td>\n",
       "    </tr>\n",
       "    <tr>\n",
       "      <th>2024-03-31</th>\n",
       "      <td>-0.051286</td>\n",
       "      <td>0.017116</td>\n",
       "      <td>0.024099</td>\n",
       "    </tr>\n",
       "  </tbody>\n",
       "</table>\n",
       "<p>118 rows × 3 columns</p>\n",
       "</div>"
      ],
      "text/plain": [
       "               apple  microsoft  inflation\n",
       "date                                      \n",
       "2014-06-30  0.027421   0.018564   0.007147\n",
       "2014-07-31  0.028842   0.035012  -0.020724\n",
       "2014-08-31  0.072385   0.052595  -0.066387\n",
       "2014-09-30 -0.017167   0.020471  -0.004516\n",
       "2014-10-31  0.071854   0.012726   0.026302\n",
       "...              ...        ...        ...\n",
       "2023-11-30  0.112315   0.120671  -0.039860\n",
       "2023-12-31  0.013583  -0.007574  -0.028560\n",
       "2024-01-31 -0.042227   0.057281   0.010874\n",
       "2024-02-29 -0.019794   0.040394  -0.043619\n",
       "2024-03-31 -0.051286   0.017116   0.024099\n",
       "\n",
       "[118 rows x 3 columns]"
      ]
     },
     "execution_count": 253,
     "metadata": {},
     "output_type": "execute_result"
    }
   ],
   "source": [
    "stocks = pd.merge(apple_monthly_returns, microsoft_monthly_returns, left_index=True, right_index=True, how='inner')\n",
    "stocks.columns = ['apple', 'microsoft']\n",
    "stocks_and_inflation = pd.merge(stocks, inflation_pct_change, left_index=True, right_index=True, how='inner')\n",
    "stocks_and_inflation"
   ]
  },
  {
   "cell_type": "markdown",
   "id": "e1352272",
   "metadata": {},
   "source": [
    "### 4. Calculate the correlation matrix between the Apple returns, Microsoft returns, and inflation change"
   ]
  },
  {
   "cell_type": "code",
   "execution_count": 258,
   "id": "8176f9ff",
   "metadata": {},
   "outputs": [],
   "source": [
    "# Calculate correlation matrix\n",
    "stocks_and_inflation_corr = stocks_and_inflation.corr()"
   ]
  },
  {
   "cell_type": "markdown",
   "id": "43b0ac07",
   "metadata": {},
   "source": [
    "### 5. Plot the correlation matrix as a heatmap "
   ]
  },
  {
   "cell_type": "code",
   "execution_count": 264,
   "id": "0f731a65",
   "metadata": {},
   "outputs": [
    {
     "data": {
      "image/png": "[encoded data removed]",
      "text/plain": [
       "<Figure size 800x600 with 2 Axes>"
      ]
     },
     "metadata": {},
     "output_type": "display_data"
    }
   ],
   "source": [
    "# Plot heatmap\n",
    "plt.figure(figsize=(8, 6))\n",
    "sns.heatmap(stocks_and_inflation_corr, annot=True, fmt=\".2f\", cmap=\"coolwarm\", cbar=True)\n",
    "plt.title(\"Correlation Heatmap\")\n",
    "plt.show()"
   ]
  },
  {
   "cell_type": "markdown",
   "id": "624a2410",
   "metadata": {},
   "source": [
    "## Calculating rolling volatility (standard deviation) of a stock's price for last 3 months\n",
    "\n",
    "Volatility is a measure of the dispersion of returns for a given security. By calculating rolling volatility, investors can assess the risk associated with a stock over time: Higher volatility indicates higher risk, as the stock's price is more likely to experience significant fluctuations. In portfolio optimization, understanding the volatility of individual stocks and how it changes over time is crucial for diversification and optimization. By analyzing rolling volatility, investors can adjust their portfolios to maintain a desired risk level, potentially improving the risk-return profile.\n",
    "\n",
    "One possible way to calculate volatility is by using the standard deviation of returns for a stock over time.\n",
    "\n",
    "Your task:\n",
    "* Calculate the weekly rolling standard deviation for Apple's closing price\n",
    "* Plot the calculated rolling weekly volatility of Apple's closing price against Apple's closing price. Plot these **on the same chart, but using different y-axes**\n",
    "\n",
    "Helpful hints:\n",
    "* You'll need to use the `pandas` `rolling()` method with a given `window_size` parameter to make it a _weekly_ rolling calculation\n",
    "* Use **only the last three months of data**; data much older than this may not be as useful for portfolio optimization\n",
    "* You'll need to create two axes on the matplotlib figure to be able to use two different y-axes (one for the closing price and one for the rolling volatility calculated here)"
   ]
  },
  {
   "cell_type": "code",
   "execution_count": null,
   "id": "4da9eb94",
   "metadata": {},
   "outputs": [],
   "source": [
    "# Define the window size for the rolling calculation (e.g., one week)\n"
   ]
  },
  {
   "cell_type": "code",
   "execution_count": null,
   "id": "2c5142b4",
   "metadata": {},
   "outputs": [],
   "source": [
    "# Calculate rolling one-week volatility\n"
   ]
  },
  {
   "cell_type": "code",
   "execution_count": null,
   "id": "92a9c0b8",
   "metadata": {},
   "outputs": [],
   "source": [
    "# Plot the calculated rolling weekly volatility of Apple's closing price against Apple's closing price\n",
    "# Plot these on the same chart, but using different y-axes\n",
    "\n"
   ]
  },
  {
   "cell_type": "markdown",
   "id": "e2cf3c78",
   "metadata": {},
   "source": [
    "## Export data\n",
    "\n",
    "Now that you have preprocessed your data, you should save it in new csv files so that it can be used in downstream tasks without having to redo all the preprocessing steps. \n",
    "\n",
    "Your task:\n",
    "* Use `pandas` to export all modified datasets back to new CSV files"
   ]
  },
  {
   "cell_type": "code",
   "execution_count": null,
   "id": "3d67d29c",
   "metadata": {},
   "outputs": [],
   "source": []
  }
 ],
 "metadata": {
  "kernelspec": {
   "display_name": "data_science",
   "language": "python",
   "name": "python3"
  },
  "language_info": {
   "codemirror_mode": {
    "name": "ipython",
    "version": 3
   },
   "file_extension": ".py",
   "mimetype": "text/x-python",
   "name": "python",
   "nbconvert_exporter": "python",
   "pygments_lexer": "ipython3",
   "version": "3.11.3"
  }
 },
 "nbformat": 4,
 "nbformat_minor": 5
}
